{
 "cells": [
  {
   "cell_type": "markdown",
   "metadata": {},
   "source": [
    "# Chocolate Chip vs Raisin Cookies Classifier"
   ]
  },
  {
   "cell_type": "markdown",
   "metadata": {},
   "source": [
    "You can easily turn a model into a prototype web app with Jupyter notebook and Binder."
   ]
  },
  {
   "cell_type": "code",
   "execution_count": 7,
   "metadata": {},
   "outputs": [
    {
     "name": "stdout",
     "output_type": "stream",
     "text": [
      "\u001b[33mWARNING: You are using pip version 20.3.3; however, version 21.0.1 is available.\r\n",
      "You should consider upgrading via the '/Users/admin/venv/bin/python -m pip install --upgrade pip' command.\u001b[0m\r\n"
     ]
    }
   ],
   "source": [
    "# !pip install -q fastai==2.3.0"
   ]
  },
  {
   "cell_type": "code",
   "execution_count": 11,
   "metadata": {},
   "outputs": [
    {
     "data": {
      "application/vnd.jupyter.widget-view+json": {
       "model_id": "c5e1656521b94840acfb5ce16278f5ae",
       "version_major": 2,
       "version_minor": 0
      },
      "text/plain": [
       "VBox(children=(Label(value='Select your cookies.'), FileUpload(value={}, description='Upload'), Output(), Labe…"
      ]
     },
     "metadata": {},
     "output_type": "display_data"
    },
    {
     "data": {
      "text/html": [],
      "text/plain": [
       "<IPython.core.display.HTML object>"
      ]
     },
     "metadata": {},
     "output_type": "display_data"
    }
   ],
   "source": [
    "from fastai.vision.all import *\n",
    "from fastai.vision.widgets import *\n",
    "\n",
    "learn_inf = load_learner('models/resnet34_finetune1e3_5p.pkl', cpu=True)\n",
    "btn_upload = widgets.FileUpload()\n",
    "out_pl = widgets.Output()\n",
    "lbl_pred = widgets.Label()\n",
    "\n",
    "def on_data_change(change):\n",
    "    lbl_pred.value = ''\n",
    "    img = PILImage.create(btn_upload.data[-1])\n",
    "    out_pl.clear_output()\n",
    "    with out_pl: display(img.to_thumb(256,256))\n",
    "    pred,pred_idx,probs = learn_inf.predict(img)\n",
    "    lbl_pred.value = f'Prediction: {pred}; Probability: {probs[pred_idx]:.04f}'\n",
    "    \n",
    "btn_upload.observe(on_data_change, names=['data'])\n",
    "display(VBox([widgets.Label('Select your cookies.'), btn_upload, out_pl, lbl_pred]))"
   ]
  },
  {
   "cell_type": "markdown",
   "metadata": {},
   "source": [
    "## Export to `.pkl` files"
   ]
  },
  {
   "cell_type": "markdown",
   "metadata": {},
   "source": [
    "We convert the model from `.pth` files into `.pkl` for inference.\n",
    "\n",
    "Github repo: [cstorm125/choco-raisin](https://github.com/cstorm125/choco-raisin)"
   ]
  },
  {
   "cell_type": "code",
   "execution_count": 6,
   "metadata": {},
   "outputs": [],
   "source": [
    "# #use this if you are running on colab\n",
    "# !npx degit github:cstorm125/choco-raisin#main choco-raisin\n",
    "# path = Path('choco-raisin/images')\n",
    "\n",
    "# #use this instead if you are running on local\n",
    "# path = Path('../images')"
   ]
  },
  {
   "cell_type": "code",
   "execution_count": 10,
   "metadata": {},
   "outputs": [],
   "source": [
    "# #new datablocks and learner\n",
    "# dblock = DataBlock(\n",
    "#     blocks=(ImageBlock, CategoryBlock), #x - image; y - single class\n",
    "#     get_items=get_image_files, #get image\n",
    "#     splitter=GrandparentSplitter(valid_name='test'), #use parent folder as train-test split\n",
    "#     get_y=parent_label, #use parent folder as label\n",
    "#     #two choices for resizing and rationale\n",
    "#     #squishing to prevent cropping places without chips/raisins\n",
    "#     item_tfms=Resize(512, method=ResizeMethod.Squish), \n",
    "#     # #cropping to preserve image quality; tried and doesn't work - peaked at 0.85 val acc\n",
    "#     # item_tfms=RandomResizedCrop(512),\n",
    "#     batch_tfms=aug_transforms(size=512, flip_vert=True), #standard fastai augmentation at size 512\n",
    "#     )\n",
    "\n",
    "# dls = dblock.dataloaders(path, bs=64) #batch size = 64\n",
    "\n",
    "# learn = cnn_learner(dls, \n",
    "#                     resnet34, \n",
    "#                     metrics=[accuracy, Precision(), Recall(), F1Score()]).to_fp16()\n",
    "# #load trained model\n",
    "# learn.load('resnet34_finetune1e3_5p');\n",
    "\n",
    "# #export to pkl\n",
    "# learn.export('models/resnet34_finetune1e3_5p.pkl')"
   ]
  }
 ],
 "metadata": {
  "hide_input": false,
  "kernelspec": {
   "display_name": "Python 3",
   "language": "python",
   "name": "python3"
  },
  "language_info": {
   "codemirror_mode": {
    "name": "ipython",
    "version": 3
   },
   "file_extension": ".py",
   "mimetype": "text/x-python",
   "name": "python",
   "nbconvert_exporter": "python",
   "pygments_lexer": "ipython3",
   "version": "3.8.6"
  }
 },
 "nbformat": 4,
 "nbformat_minor": 4
}
