{
 "cells": [
  {
   "cell_type": "code",
   "execution_count": 1,
   "metadata": {},
   "outputs": [
    {
     "name": "stderr",
     "output_type": "stream",
     "text": [
      "/Users/benyapa/venv/lib/python3.7/site-packages/fastbook/__init__.py:18: UserWarning: Missing `graphviz` - please run `conda install fastbook`\n",
      "  except ModuleNotFoundError: warn(\"Missing `graphviz` - please run `conda install fastbook`\")\n"
     ]
    }
   ],
   "source": [
    "#imports\n",
    "from fastbook import *\n",
    "from fastai.vision.widgets import *\n",
    "from tqdm.auto import tqdm\n",
    "import pandas as pd\n",
    "import numpy as np\n",
    "from shutil import copyfile"
   ]
  },
  {
   "cell_type": "code",
   "execution_count": 8,
   "metadata": {},
   "outputs": [
    {
     "data": {
      "text/plain": [
       "(#1427) [Path('../images/choco_raisin_meme.jpg'),Path('../images/valid/raisin/00000366.jpg'),Path('../images/valid/raisin/00000825.jpg'),Path('../images/valid/raisin/00000819.jpg'),Path('../images/valid/raisin/00000212.jpg'),Path('../images/valid/raisin/00000575.jpg'),Path('../images/valid/raisin/00000011.jpg'),Path('../images/valid/raisin/00000039.jpg'),Path('../images/valid/raisin/00000818.jpg'),Path('../images/valid/raisin/00000373.jpg')...]"
      ]
     },
     "execution_count": 8,
     "metadata": {},
     "output_type": "execute_result"
    }
   ],
   "source": [
    "#get file names\n",
    "path = Path('../images/')\n",
    "fns = get_image_files(path)\n",
    "fns"
   ]
  },
  {
   "cell_type": "code",
   "execution_count": 18,
   "metadata": {},
   "outputs": [
    {
     "data": {
      "text/html": [
       "<div>\n",
       "<style scoped>\n",
       "    .dataframe tbody tr th:only-of-type {\n",
       "        vertical-align: middle;\n",
       "    }\n",
       "\n",
       "    .dataframe tbody tr th {\n",
       "        vertical-align: top;\n",
       "    }\n",
       "\n",
       "    .dataframe thead th {\n",
       "        text-align: right;\n",
       "    }\n",
       "</style>\n",
       "<table border=\"1\" class=\"dataframe\">\n",
       "  <thead>\n",
       "    <tr style=\"text-align: right;\">\n",
       "      <th></th>\n",
       "      <th>fname</th>\n",
       "      <th>ext</th>\n",
       "      <th>type_set</th>\n",
       "      <th>label</th>\n",
       "    </tr>\n",
       "  </thead>\n",
       "  <tbody>\n",
       "    <tr>\n",
       "      <th>1</th>\n",
       "      <td>../images/valid/raisin/00000366.jpg</td>\n",
       "      <td>.jpg</td>\n",
       "      <td>valid</td>\n",
       "      <td>raisin</td>\n",
       "    </tr>\n",
       "    <tr>\n",
       "      <th>2</th>\n",
       "      <td>../images/valid/raisin/00000825.jpg</td>\n",
       "      <td>.jpg</td>\n",
       "      <td>valid</td>\n",
       "      <td>raisin</td>\n",
       "    </tr>\n",
       "    <tr>\n",
       "      <th>3</th>\n",
       "      <td>../images/valid/raisin/00000819.jpg</td>\n",
       "      <td>.jpg</td>\n",
       "      <td>valid</td>\n",
       "      <td>raisin</td>\n",
       "    </tr>\n",
       "    <tr>\n",
       "      <th>4</th>\n",
       "      <td>../images/valid/raisin/00000212.jpg</td>\n",
       "      <td>.jpg</td>\n",
       "      <td>valid</td>\n",
       "      <td>raisin</td>\n",
       "    </tr>\n",
       "    <tr>\n",
       "      <th>5</th>\n",
       "      <td>../images/valid/raisin/00000575.jpg</td>\n",
       "      <td>.jpg</td>\n",
       "      <td>valid</td>\n",
       "      <td>raisin</td>\n",
       "    </tr>\n",
       "  </tbody>\n",
       "</table>\n",
       "</div>"
      ],
      "text/plain": [
       "                                 fname   ext type_set   label\n",
       "1  ../images/valid/raisin/00000366.jpg  .jpg    valid  raisin\n",
       "2  ../images/valid/raisin/00000825.jpg  .jpg    valid  raisin\n",
       "3  ../images/valid/raisin/00000819.jpg  .jpg    valid  raisin\n",
       "4  ../images/valid/raisin/00000212.jpg  .jpg    valid  raisin\n",
       "5  ../images/valid/raisin/00000575.jpg  .jpg    valid  raisin"
      ]
     },
     "execution_count": 18,
     "metadata": {},
     "output_type": "execute_result"
    }
   ],
   "source": [
    "#create dataset\n",
    "df = pd.DataFrame({'fname':fns})\n",
    "df['ext'] = df.fname.map(lambda x: x.suffix)\n",
    "df['type_set'] = df.fname.map(lambda x: x.parts[-3])\n",
    "df['label'] = df.fname.map(lambda x: x.parts[-2])\n",
    "df = df[df['type_set']=='valid']\n",
    "df.head()"
   ]
  },
  {
   "cell_type": "code",
   "execution_count": 19,
   "metadata": {},
   "outputs": [
    {
     "data": {
      "text/plain": [
       "chocolate chip    144\n",
       "raisin            140\n",
       "Name: label, dtype: int64"
      ]
     },
     "execution_count": 19,
     "metadata": {},
     "output_type": "execute_result"
    }
   ],
   "source": [
    "#get only .jpg\n",
    "df = df[df.ext=='.jpg']\n",
    "df.label.value_counts()"
   ]
  },
  {
   "cell_type": "code",
   "execution_count": 21,
   "metadata": {},
   "outputs": [
    {
     "data": {
      "text/plain": [
       "test       0.5\n",
       "no_test    0.5\n",
       "Name: splits, dtype: float64"
      ]
     },
     "execution_count": 21,
     "metadata": {},
     "output_type": "execute_result"
    }
   ],
   "source": [
    "#randomly pick about half of validation set for test set\n",
    "np.random.seed(125)\n",
    "p = 0.5\n",
    "df['splits'] = np.random.choice(a=['test','no_test'], size=df.shape[0], p=[p,1-p])\n",
    "df.splits.value_counts() / df.shape[0]"
   ]
  },
  {
   "cell_type": "code",
   "execution_count": 23,
   "metadata": {},
   "outputs": [
    {
     "data": {
      "text/plain": [
       "raisin            71\n",
       "chocolate chip    71\n",
       "Name: label, dtype: int64"
      ]
     },
     "execution_count": 23,
     "metadata": {},
     "output_type": "execute_result"
    }
   ],
   "source": [
    "df[df.splits=='test'].label.value_counts()"
   ]
  },
  {
   "cell_type": "code",
   "execution_count": 24,
   "metadata": {},
   "outputs": [
    {
     "data": {
      "text/plain": [
       "chocolate chip    73\n",
       "raisin            69\n",
       "Name: label, dtype: int64"
      ]
     },
     "execution_count": 24,
     "metadata": {},
     "output_type": "execute_result"
    }
   ],
   "source": [
    "df[df.splits=='no_test'].label.value_counts()"
   ]
  },
  {
   "cell_type": "code",
   "execution_count": 45,
   "metadata": {},
   "outputs": [
    {
     "data": {
      "text/plain": [
       "'00000366.jpg'"
      ]
     },
     "execution_count": 45,
     "metadata": {},
     "output_type": "execute_result"
    }
   ],
   "source": [
    "df['fname'][1].parts[4]"
   ]
  },
  {
   "cell_type": "code",
   "execution_count": 50,
   "metadata": {},
   "outputs": [],
   "source": [
    "!mkdir '../images/test'\n",
    "!mkdir '../images/test/chocolate chip'\n",
    "!mkdir '../images/test/raisin'"
   ]
  },
  {
   "cell_type": "code",
   "execution_count": 53,
   "metadata": {},
   "outputs": [],
   "source": [
    "#move them to `test` folders\n",
    "\n",
    "#df[df.splits=='test'].apply(lambda row: copyfile(row['fname'], \\\n",
    "#                 f'{row.fname.parts[0]}/{row.fname.parts[1]}/{row.splits}/{row.fname.parts[3]}/{row.fname.parts[4]}'),1)"
   ]
  },
  {
   "cell_type": "code",
   "execution_count": null,
   "metadata": {},
   "outputs": [],
   "source": []
  }
 ],
 "metadata": {
  "kernelspec": {
   "display_name": "Python 3",
   "language": "python",
   "name": "python3"
  },
  "language_info": {
   "codemirror_mode": {
    "name": "ipython",
    "version": 3
   },
   "file_extension": ".py",
   "mimetype": "text/x-python",
   "name": "python",
   "nbconvert_exporter": "python",
   "pygments_lexer": "ipython3",
   "version": "3.7.6"
  }
 },
 "nbformat": 4,
 "nbformat_minor": 2
}
