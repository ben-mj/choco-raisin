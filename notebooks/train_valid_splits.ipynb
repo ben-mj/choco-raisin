{
 "cells": [
  {
   "cell_type": "code",
   "execution_count": 66,
   "metadata": {},
   "outputs": [],
   "source": [
    "#imports\n",
    "from fastbook import *\n",
    "from fastai.vision.widgets import *\n",
    "from tqdm.auto import tqdm\n",
    "import pandas as pd\n",
    "import numpy as np\n",
    "from shutil import copyfile"
   ]
  },
  {
   "cell_type": "code",
   "execution_count": 32,
   "metadata": {},
   "outputs": [
    {
     "data": {
      "text/plain": [
       "(#1659) [Path('images/chocolate chip/00000000.jpg'),Path('images/chocolate chip/00000001.jpg'),Path('images/chocolate chip/00000002.jpg'),Path('images/chocolate chip/00000003.jpg'),Path('images/chocolate chip/00000004.jpg'),Path('images/chocolate chip/00000005.jpg'),Path('images/chocolate chip/00000006.jpg'),Path('images/chocolate chip/00000007.jpg'),Path('images/chocolate chip/00000008.jpg'),Path('images/chocolate chip/00000009.jpg')...]"
      ]
     },
     "execution_count": 32,
     "metadata": {},
     "output_type": "execute_result"
    }
   ],
   "source": [
    "#get file names\n",
    "path = Path('images')\n",
    "fns = get_image_files(path)\n",
    "fns"
   ]
  },
  {
   "cell_type": "code",
   "execution_count": 33,
   "metadata": {},
   "outputs": [
    {
     "name": "stderr",
     "output_type": "stream",
     "text": [
      "/home/cstorm125/venv/lib/python3.6/site-packages/PIL/TiffImagePlugin.py:793: UserWarning: Corrupt EXIF data.  Expecting to read 4 bytes but only got 0. \n",
      "  warnings.warn(str(msg))\n",
      "/home/cstorm125/venv/lib/python3.6/site-packages/PIL/TiffImagePlugin.py:793: UserWarning: Corrupt EXIF data.  Expecting to read 4 bytes but only got 0. \n",
      "  warnings.warn(str(msg))\n",
      "/home/cstorm125/venv/lib/python3.6/site-packages/PIL/TiffImagePlugin.py:793: UserWarning: Corrupt EXIF data.  Expecting to read 4 bytes but only got 0. \n",
      "  warnings.warn(str(msg))\n"
     ]
    },
    {
     "data": {
      "text/plain": [
       "(#0) []"
      ]
     },
     "execution_count": 33,
     "metadata": {},
     "output_type": "execute_result"
    }
   ],
   "source": [
    "#verify \n",
    "failed = verify_images(fns)\n",
    "failed"
   ]
  },
  {
   "cell_type": "code",
   "execution_count": 67,
   "metadata": {},
   "outputs": [
    {
     "data": {
      "text/html": [
       "<div>\n",
       "<style scoped>\n",
       "    .dataframe tbody tr th:only-of-type {\n",
       "        vertical-align: middle;\n",
       "    }\n",
       "\n",
       "    .dataframe tbody tr th {\n",
       "        vertical-align: top;\n",
       "    }\n",
       "\n",
       "    .dataframe thead th {\n",
       "        text-align: right;\n",
       "    }\n",
       "</style>\n",
       "<table border=\"1\" class=\"dataframe\">\n",
       "  <thead>\n",
       "    <tr style=\"text-align: right;\">\n",
       "      <th></th>\n",
       "      <th>fname</th>\n",
       "      <th>ext</th>\n",
       "      <th>label</th>\n",
       "    </tr>\n",
       "  </thead>\n",
       "  <tbody>\n",
       "    <tr>\n",
       "      <th>0</th>\n",
       "      <td>images/chocolate chip/00000000.jpg</td>\n",
       "      <td>.jpg</td>\n",
       "      <td>chocolate chip</td>\n",
       "    </tr>\n",
       "    <tr>\n",
       "      <th>1</th>\n",
       "      <td>images/chocolate chip/00000001.jpg</td>\n",
       "      <td>.jpg</td>\n",
       "      <td>chocolate chip</td>\n",
       "    </tr>\n",
       "    <tr>\n",
       "      <th>2</th>\n",
       "      <td>images/chocolate chip/00000002.jpg</td>\n",
       "      <td>.jpg</td>\n",
       "      <td>chocolate chip</td>\n",
       "    </tr>\n",
       "    <tr>\n",
       "      <th>3</th>\n",
       "      <td>images/chocolate chip/00000003.jpg</td>\n",
       "      <td>.jpg</td>\n",
       "      <td>chocolate chip</td>\n",
       "    </tr>\n",
       "    <tr>\n",
       "      <th>4</th>\n",
       "      <td>images/chocolate chip/00000004.jpg</td>\n",
       "      <td>.jpg</td>\n",
       "      <td>chocolate chip</td>\n",
       "    </tr>\n",
       "    <tr>\n",
       "      <th>...</th>\n",
       "      <td>...</td>\n",
       "      <td>...</td>\n",
       "      <td>...</td>\n",
       "    </tr>\n",
       "    <tr>\n",
       "      <th>1654</th>\n",
       "      <td>images/raisin/00000895.jpg</td>\n",
       "      <td>.jpg</td>\n",
       "      <td>raisin</td>\n",
       "    </tr>\n",
       "    <tr>\n",
       "      <th>1655</th>\n",
       "      <td>images/raisin/00000896.jpg</td>\n",
       "      <td>.jpg</td>\n",
       "      <td>raisin</td>\n",
       "    </tr>\n",
       "    <tr>\n",
       "      <th>1656</th>\n",
       "      <td>images/raisin/00000897.jpg</td>\n",
       "      <td>.jpg</td>\n",
       "      <td>raisin</td>\n",
       "    </tr>\n",
       "    <tr>\n",
       "      <th>1657</th>\n",
       "      <td>images/raisin/00000898.jpg</td>\n",
       "      <td>.jpg</td>\n",
       "      <td>raisin</td>\n",
       "    </tr>\n",
       "    <tr>\n",
       "      <th>1658</th>\n",
       "      <td>images/raisin/00000899.jpg</td>\n",
       "      <td>.jpg</td>\n",
       "      <td>raisin</td>\n",
       "    </tr>\n",
       "  </tbody>\n",
       "</table>\n",
       "<p>1659 rows × 3 columns</p>\n",
       "</div>"
      ],
      "text/plain": [
       "                                   fname   ext           label\n",
       "0     images/chocolate chip/00000000.jpg  .jpg  chocolate chip\n",
       "1     images/chocolate chip/00000001.jpg  .jpg  chocolate chip\n",
       "2     images/chocolate chip/00000002.jpg  .jpg  chocolate chip\n",
       "3     images/chocolate chip/00000003.jpg  .jpg  chocolate chip\n",
       "4     images/chocolate chip/00000004.jpg  .jpg  chocolate chip\n",
       "...                                  ...   ...             ...\n",
       "1654          images/raisin/00000895.jpg  .jpg          raisin\n",
       "1655          images/raisin/00000896.jpg  .jpg          raisin\n",
       "1656          images/raisin/00000897.jpg  .jpg          raisin\n",
       "1657          images/raisin/00000898.jpg  .jpg          raisin\n",
       "1658          images/raisin/00000899.jpg  .jpg          raisin\n",
       "\n",
       "[1659 rows x 3 columns]"
      ]
     },
     "execution_count": 67,
     "metadata": {},
     "output_type": "execute_result"
    }
   ],
   "source": [
    "#create dataset\n",
    "df = pd.DataFrame({'fname':fns})\n",
    "df['ext'] = df.fname.map(lambda x: x.suffix)\n",
    "df['label'] = df.fname.map(lambda x: x.parts[-2])\n",
    "df"
   ]
  },
  {
   "cell_type": "code",
   "execution_count": 68,
   "metadata": {},
   "outputs": [
    {
     "data": {
      "text/plain": [
       "chocolate chip    807\n",
       "raisin            743\n",
       "Name: label, dtype: int64"
      ]
     },
     "execution_count": 68,
     "metadata": {},
     "output_type": "execute_result"
    }
   ],
   "source": [
    "#get only .jpg\n",
    "df = df[df.ext=='.jpg']\n",
    "df.label.value_counts()"
   ]
  },
  {
   "cell_type": "code",
   "execution_count": 72,
   "metadata": {},
   "outputs": [
    {
     "name": "stderr",
     "output_type": "stream",
     "text": [
      "/home/cstorm125/venv/lib/python3.6/site-packages/ipykernel_launcher.py:4: SettingWithCopyWarning: \n",
      "A value is trying to be set on a copy of a slice from a DataFrame.\n",
      "Try using .loc[row_indexer,col_indexer] = value instead\n",
      "\n",
      "See the caveats in the documentation: https://pandas.pydata.org/pandas-docs/stable/user_guide/indexing.html#returning-a-view-versus-a-copy\n",
      "  after removing the cwd from sys.path.\n"
     ]
    },
    {
     "data": {
      "text/plain": [
       "train    0.800645\n",
       "valid    0.199355\n",
       "Name: splits, dtype: float64"
      ]
     },
     "execution_count": 72,
     "metadata": {},
     "output_type": "execute_result"
    }
   ],
   "source": [
    "#randomize validation flag\n",
    "np.random.seed(125)\n",
    "p = 0.2\n",
    "df['splits'] = np.random.choice(a=['valid', 'train'], size=df.shape[0], p=[p,1-p])\n",
    "df.splits.value_counts() / df.shape[0]"
   ]
  },
  {
   "cell_type": "code",
   "execution_count": 73,
   "metadata": {},
   "outputs": [
    {
     "data": {
      "text/plain": [
       "chocolate chip    651\n",
       "raisin            590\n",
       "Name: label, dtype: int64"
      ]
     },
     "execution_count": 73,
     "metadata": {},
     "output_type": "execute_result"
    }
   ],
   "source": [
    "df[df.splits=='train'].label.value_counts()"
   ]
  },
  {
   "cell_type": "code",
   "execution_count": 74,
   "metadata": {},
   "outputs": [
    {
     "data": {
      "text/plain": [
       "chocolate chip    156\n",
       "raisin            153\n",
       "Name: label, dtype: int64"
      ]
     },
     "execution_count": 74,
     "metadata": {},
     "output_type": "execute_result"
    }
   ],
   "source": [
    "df[df.splits=='valid'].label.value_counts()"
   ]
  },
  {
   "cell_type": "code",
   "execution_count": 86,
   "metadata": {},
   "outputs": [],
   "source": [
    "#move them to `train` and `valid` folders\n",
    "#then curate by hand the validation set\n",
    "#curate some from training set as well\n",
    "\n",
    "# df.apply(lambda row: copyfile(row['fname'], f'{row.fname.parts[0]}/{row.splits}/{row.fname.parts[1]}/{row.fname.parts[2]}'),1)"
   ]
  },
  {
   "cell_type": "code",
   "execution_count": null,
   "metadata": {},
   "outputs": [],
   "source": []
  }
 ],
 "metadata": {
  "kernelspec": {
   "display_name": "Python 3",
   "language": "python",
   "name": "python3"
  },
  "language_info": {
   "codemirror_mode": {
    "name": "ipython",
    "version": 3
   },
   "file_extension": ".py",
   "mimetype": "text/x-python",
   "name": "python",
   "nbconvert_exporter": "python",
   "pygments_lexer": "ipython3",
   "version": "3.7.6"
  }
 },
 "nbformat": 4,
 "nbformat_minor": 2
}
